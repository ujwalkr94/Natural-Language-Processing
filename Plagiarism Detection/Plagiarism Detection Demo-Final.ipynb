{
 "cells": [
  {
   "cell_type": "markdown",
   "id": "bae649b0",
   "metadata": {},
   "source": [
    "#### Importing Required Libraries"
   ]
  },
  {
   "cell_type": "code",
   "execution_count": 37,
   "id": "5a225877",
   "metadata": {},
   "outputs": [],
   "source": [
    "import nltk\n",
    "from nltk.tokenize import word_tokenize,sent_tokenize\n",
    "from nltk.corpus import stopwords\n",
    "from nltk.probability import FreqDist\n",
    "import math\n",
    "import numpy as np\n",
    "import matplotlib.pyplot as plt\n",
    "import pandas as pd\n",
    "#from sklearn import preprocessing"
   ]
  },
  {
   "cell_type": "markdown",
   "id": "63bd9069",
   "metadata": {},
   "source": [
    "#### Creating Lists to store the plagiarism rates"
   ]
  },
  {
   "cell_type": "code",
   "execution_count": 38,
   "id": "dd00c9a5",
   "metadata": {},
   "outputs": [],
   "source": [
    "Jaccard=[[],[],[],[]]\n",
    "Containment=[[],[],[],[]]\n",
    "TFIDF=[[],[],[],[]]\n",
    "LCS=[[],[],[],[]]"
   ]
  },
  {
   "cell_type": "markdown",
   "id": "a68e204b",
   "metadata": {},
   "source": [
    "#### Reading CSV File "
   ]
  },
  {
   "cell_type": "code",
   "execution_count": 39,
   "id": "39076a2a",
   "metadata": {},
   "outputs": [],
   "source": [
    "df = pd.read_excel(\"corpus-final091.xlsx\")\n",
    "#df['Category'].unique()"
   ]
  },
  {
   "cell_type": "markdown",
   "id": "34b370e0",
   "metadata": {},
   "source": [
    "## Code for all Four Models"
   ]
  },
  {
   "cell_type": "code",
   "execution_count": 40,
   "id": "3db8d683",
   "metadata": {},
   "outputs": [],
   "source": [
    "for z in range(0,len(df)):\n",
    "    #print(df['Category'][z])\n",
    "    #print(df['File'][i])\n",
    "    #--------------------------------------------------------------------------------\n",
    "    #Opening Plagiarised file as plag\n",
    "    with open(df['File'][z], \"r\" , encoding=\"unicode_escape\") as f1:\n",
    "        plag=f1.read().replace(\"\\n\",\" \")\n",
    "        f1.close()\n",
    "        \n",
    "    #--------------------------------------------------------------------------------\n",
    "    #Opening Original File as orig\n",
    "        if(df['Task'][z]=='a'):\n",
    "            OrifFile='orig_taska.txt' #Creating a Variable for Original File Name\n",
    "        elif(df['Task'][z]=='b'):\n",
    "            OrifFile='orig_taskb.txt'\n",
    "        elif(df['Task'][z]=='c'):\n",
    "            OrifFile='orig_taskc.txt'\n",
    "        elif(df['Task'][z]=='d'):\n",
    "            OrifFile='orig_taskd.txt'\n",
    "        elif(df['Task'][z]=='e'):\n",
    "            OrifFile='orig_taske.txt'\n",
    "        with open(OrifFile, \"r\" , encoding=\"unicode_escape\") as f2:\n",
    "            orig=f2.read().replace(\"\\n\",\" \")\n",
    "            f2.close()\n",
    "            \n",
    "    #-----------------------------------------------------------------------------------------\n",
    "        #word tokenisation\n",
    "        tokens_o=word_tokenize(orig)\n",
    "        tokens_p=word_tokenize(plag)\n",
    "    #------------------------------------------------------------------------------------------\n",
    "        #lowerCase\n",
    "        tokens_o = [token.lower() for token in tokens_o]\n",
    "        tokens_p = [token.lower() for token in tokens_p]\n",
    "        #print(len(tokens_o), len(tokens_p))\n",
    "    #-------------------------------------------------------------------------------------------\n",
    "        #stop word removal\n",
    "        #punctuation removal\n",
    "        stop_words=set(stopwords.words('english'))\n",
    "        punctuations=['\"','.','(',')',',','?',';',':',\"''\",'``']\n",
    "        filtered_tokens_o = [w for w in tokens_o if not w in stop_words and not w in punctuations]\n",
    "        filtered_tokens_p = [w for w in tokens_p if not w in stop_words and not w in punctuations]\n",
    "        #print(len(filtered_tokens_o),len(filtered_tokens_p))\n",
    "        \n",
    "    #----------------------------------------------------------------------------------------------\n",
    "        #Trigram Similiarity measures\n",
    "        trigrams_o=[]\n",
    "        for i in range(len(filtered_tokens_o)-2):\n",
    "            t=(filtered_tokens_o[i],filtered_tokens_o[i+1],filtered_tokens_o[i+2])\n",
    "            #print(t)\n",
    "            trigrams_o.append(t)\n",
    "\n",
    "        s=0\n",
    "        trigrams_p=[]\n",
    "        for i in range(len(filtered_tokens_p)-2):\n",
    "            t=(filtered_tokens_p[i],filtered_tokens_p[i+1],filtered_tokens_p[i+2])\n",
    "            trigrams_p.append(t)\n",
    "            if t in trigrams_o:\n",
    "                s+=1\n",
    "\n",
    "        #jaccord coefficient = (S(o)^S(p))/(S(o) U S(p))\n",
    "        J=s/(len(trigrams_o)+len(trigrams_p))\n",
    "        #print(J)\n",
    "\n",
    "        #containment measure\n",
    "        C=s/len(trigrams_p)\n",
    "        #print(C)\n",
    "        \n",
    "        #-----------------------------------------------------------------------------------------------------------------#\n",
    "        #dynamic programming algorithm for finding lcs\n",
    "        def lcs(l1,l2):\n",
    "            s1=word_tokenize(l1)\n",
    "            s2=word_tokenize(l2)\n",
    "            # storing the dp values \n",
    "            dp = [[None]*(len(s1)+1) for i in range(len(s2)+1)] \n",
    "\n",
    "            for i in range(len(s2)+1): \n",
    "                for j in range(len(s1)+1): \n",
    "                    if i == 0 or j == 0: \n",
    "                        dp[i][j] = 0\n",
    "                    elif s2[i-1] == s1[j-1]: \n",
    "                        dp[i][j] = dp[i-1][j-1]+1\n",
    "                    else: \n",
    "                        dp[i][j] = max(dp[i-1][j] , dp[i][j-1]) \n",
    "            #print(i,j,len(dp[0]),len(dp))\n",
    "            return dp[len(s2)][len(s1)] \n",
    "        \n",
    "        sent_o=sent_tokenize(orig)\n",
    "        sent_p=sent_tokenize(plag)\n",
    "\n",
    "        #maximum length of LCS for a sentence in suspicious text\n",
    "        max_lcs=0\n",
    "        sum_lcs=0\n",
    "\n",
    "        for i in sent_p:\n",
    "            for j in sent_o:\n",
    "                l=lcs(i,j)\n",
    "                max_lcs=max(max_lcs,l)\n",
    "            sum_lcs+=max_lcs\n",
    "            max_lcs=0\n",
    "\n",
    "        score=sum_lcs/len(tokens_p)\n",
    "        #print(score)\n",
    "        \n",
    "        #---------------------------------------------------------------------------------------------------------#\n",
    "        #TF-TDF Method\n",
    "        word_set=set(filtered_tokens_o).union(set(filtered_tokens_p))\n",
    "        \n",
    "        #TF For each word in original Document\n",
    "        freqd_orig=FreqDist(filtered_tokens_o)\n",
    "        filtered_tokens_o_len=len(filtered_tokens_o)\n",
    "        org_tf_dict=dict.fromkeys(word_set,0)\n",
    "        for word in filtered_tokens_o:\n",
    "            org_tf_dict[word]=freqd_orig[word]/filtered_tokens_o_len\n",
    "        #print(org_tf_dict)\n",
    "        \n",
    "        #TF For each word in Plagiarised Document\n",
    "        freqd_plag=FreqDist(filtered_tokens_p)\n",
    "        filtered_tokens_p_len=len(filtered_tokens_p)\n",
    "        plag_tf_dict=dict.fromkeys(word_set,0)\n",
    "        for word in filtered_tokens_p:\n",
    "            plag_tf_dict[word]=freqd_plag[word]/filtered_tokens_p_len\n",
    "        \n",
    "        #IDF For all the words in both the texts\n",
    "        op_idf_dict=dict.fromkeys(word_set,0)\n",
    "        op_length=2 # for 2 documents\n",
    "        for word in op_idf_dict.keys():\n",
    "            if word in filtered_tokens_o:\n",
    "                op_idf_dict[word]+=1\n",
    "            if word in filtered_tokens_p:\n",
    "                op_idf_dict[word]+=1\n",
    "        #print(op_idf_dict)\n",
    "\n",
    "        for word, val in op_idf_dict.items():\n",
    "            op_idf_dict[word]=1+math.log(op_length/(float(val)))\n",
    "        #print(op_idf_dict)   \n",
    "        \n",
    "        #TF-IDF For words in Original Document\n",
    "        #Formula - TFIDF of a word = (TF of the word) * (IDF of the word)\n",
    "        org_tfidf_dict=dict.fromkeys(word_set,0)\n",
    "        for word in filtered_tokens_o:\n",
    "            org_tfidf_dict[word]=(org_tf_dict[word])*(op_idf_dict[word])\n",
    "            \n",
    "        #TF-IDF For words in Plagiarised Document    \n",
    "        plag_tfidf_dict=dict.fromkeys(word_set,0)\n",
    "        for word in filtered_tokens_p:\n",
    "            plag_tfidf_dict[word]=(plag_tf_dict[word])*(op_idf_dict[word])\n",
    "        \n",
    "        #Distance Computation using Cosine Similarity\n",
    "        v1=list(org_tfidf_dict.values())\n",
    "        v2=list(plag_tfidf_dict.values())\n",
    "        similarity=1-nltk.cluster.cosine_distance(v1,v2)\n",
    "        #print(similarity)\n",
    "        \n",
    "        #---------------------------------------------------------------------------------------------------------#\n",
    "        #Appending the Computed scores in respective Lists\n",
    "        if(df['Category'][z]=='non'):\n",
    "            index=0\n",
    "        elif(df['Category'][z]=='heavy'):\n",
    "            index=1\n",
    "        elif(df['Category'][z]=='light'):\n",
    "            index=2\n",
    "        elif(df['Category'][z]=='cut'):\n",
    "            index=3\n",
    "        \n",
    "        Jaccard[index].append(J)\n",
    "        Containment[index].append(C)\n",
    "        LCS[index].append(score)\n",
    "        TFIDF[index].append(similarity)\n",
    "        \n"
   ]
  },
  {
   "cell_type": "code",
   "execution_count": 44,
   "id": "6639c4ac",
   "metadata": {},
   "outputs": [
    {
     "data": {
      "text/plain": [
       "[0.9702127659574468,\n",
       " 0.5870786516853933,\n",
       " 0.8787878787878788,\n",
       " 0.8038277511961722,\n",
       " 1.0,\n",
       " 0.43333333333333335,\n",
       " 0.622478386167147,\n",
       " 0.501628664495114,\n",
       " 0.5,\n",
       " 0.9153094462540716,\n",
       " 0.7383966244725738,\n",
       " 0.22142857142857142,\n",
       " 0.8287292817679558,\n",
       " 0.9808917197452229,\n",
       " 0.9936708860759493,\n",
       " 0.9485861182519281,\n",
       " 0.9734513274336283,\n",
       " 0.2878228782287823,\n",
       " 0.4430379746835443]"
      ]
     },
     "execution_count": 44,
     "metadata": {},
     "output_type": "execute_result"
    }
   ],
   "source": [
    "LCS[3]"
   ]
  },
  {
   "cell_type": "markdown",
   "id": "c02eeac8",
   "metadata": {},
   "source": [
    "#### Aggregating Values inside each list"
   ]
  },
  {
   "cell_type": "code",
   "execution_count": 32,
   "id": "fa6c80a1",
   "metadata": {},
   "outputs": [],
   "source": [
    "for i in range(len(LCS)):\n",
    "    Jaccard[i]=sum(Jaccard[i])/len(Jaccard[i])\n",
    "    Containment[i]=sum(Containment[i])/len(Containment[i])\n",
    "    LCS[i]=sum(LCS[i])/len(LCS[i])\n",
    "    TFIDF[i]=sum(TFIDF[i])/len(TFIDF[i])"
   ]
  },
  {
   "cell_type": "markdown",
   "id": "66990ef1",
   "metadata": {},
   "source": [
    "#### Final Computed scores for all four types using 4 Methods"
   ]
  },
  {
   "cell_type": "code",
   "execution_count": 33,
   "id": "0150d1ca",
   "metadata": {},
   "outputs": [
    {
     "name": "stdout",
     "output_type": "stream",
     "text": [
      "0.0034098556832884794 0.010439228443544607 0.25991819887536505 0.20995229579432478\n",
      "0.08668813887367204 0.22751146470804784 0.4807377624057654 0.5147808093224974\n",
      "0.15554086207625226 0.4256772231264582 0.682261543194217 0.5802669831164222\n",
      "0.21733335136640572 0.6076285523595406 0.7172985399981427 0.5534912796409263\n"
     ]
    }
   ],
   "source": [
    "for i in range(len(LCS)):\n",
    "    print(Jaccard[i],Containment[i],LCS[i],TFIDF[i])"
   ]
  },
  {
   "cell_type": "markdown",
   "id": "2da08407",
   "metadata": {},
   "source": [
    "#### Plotting the Results"
   ]
  },
  {
   "cell_type": "code",
   "execution_count": 34,
   "id": "58b14f3d",
   "metadata": {},
   "outputs": [
    {
     "data": {
      "image/png": "[encoded data removed]",
      "text/plain": [
       "<Figure size 864x576 with 1 Axes>"
      ]
     },
     "metadata": {
      "needs_background": "light"
     },
     "output_type": "display_data"
    }
   ],
   "source": [
    "# set width of bar\n",
    "barWidth = 0.1\n",
    "fig = plt.subplots(figsize =(12, 8))\n",
    "br1 = np.arange(len(LCS))\n",
    "br2 = [x + barWidth for x in br1]\n",
    "br3 = [x + barWidth for x in br2]\n",
    "br4 = [x + barWidth for x in br3]\n",
    " \n",
    "# Make the plot\n",
    "plt.bar(br1, Jaccard, color ='Red', width = barWidth,\n",
    "        edgecolor ='grey', label ='Jaccard')\n",
    "plt.bar(br2, Containment, color ='yellow', width = barWidth,\n",
    "        edgecolor ='grey', label ='Containment')\n",
    "plt.bar(br3, LCS, color ='g', width = barWidth,\n",
    "        edgecolor ='grey', label ='LCS')\n",
    "plt.bar(br4, TFIDF, color ='b', width = barWidth,\n",
    "        edgecolor ='grey', label ='TF-IDF')\n",
    "\n",
    " \n",
    "# Adding Xticks\n",
    "plt.xlabel('Type of Document', fontweight ='bold', fontsize = 20)\n",
    "plt.ylabel('Plagiarism Rate', fontweight ='bold', fontsize = 20)\n",
    "plt.xticks([r + barWidth for r in range(len(LCS))],\n",
    "        ['Non-plagiarised', 'Heavy revision', 'Light revision','Near copy'])\n",
    "plt.title(\"Performance by Different methods\", color='navy',fontsize = 20)\n",
    " \n",
    "plt.legend()\n",
    "plt.show()"
   ]
  },
  {
   "cell_type": "code",
   "execution_count": null,
   "id": "bff99b11",
   "metadata": {},
   "outputs": [],
   "source": []
  }
 ],
 "metadata": {
  "kernelspec": {
   "display_name": "Python 3",
   "language": "python",
   "name": "python3"
  },
  "language_info": {
   "codemirror_mode": {
    "name": "ipython",
    "version": 3
   },
   "file_extension": ".py",
   "mimetype": "text/x-python",
   "name": "python",
   "nbconvert_exporter": "python",
   "pygments_lexer": "ipython3",
   "version": "3.8.8"
  }
 },
 "nbformat": 4,
 "nbformat_minor": 5
}
